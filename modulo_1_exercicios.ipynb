{
 "cells": [
  {
   "cell_type": "markdown",
   "metadata": {
    "id": "KJqp9AANOCtf"
   },
   "source": [
    "<img src=\"https://raw.githubusercontent.com/andre-marcos-perez/ebac-course-utils/main/media/logo/newebac_logo_black_half.png\" alt=\"ebac-logo\">\n",
    "\n",
    "---\n",
    "\n",
    "# **Módulo 01** | Python: Variáveis & Tipos de Dados\n",
    "Caderno de **Exercícios**<br> \n",
    "Professor [André Perez](https://www.linkedin.com/in/andremarcosperez/)\n",
    "\n",
    "---"
   ]
  },
  {
   "cell_type": "markdown",
   "metadata": {
    "id": "d9jDtUbDOE1-"
   },
   "source": [
    "# **Tópicos**\n",
    "\n",
    "<ol type=\"1\">\n",
    "  <li>Introdução ao Google Colab;</li>\n",
    "  <li>Variáveis;</li>\n",
    "  <li>Números;</li>\n",
    "  <li><i>Strings;</i></li>\n",
    "  <li>Boleanos.</li>\n",
    "</ol>"
   ]
  },
  {
   "cell_type": "markdown",
   "metadata": {
    "id": "SmoHgt-lwkpD"
   },
   "source": [
    "---"
   ]
  },
  {
   "cell_type": "markdown",
   "metadata": {
    "id": "GABI6OW8OfQ2"
   },
   "source": [
    "# **Exercícios**"
   ]
  },
  {
   "cell_type": "markdown",
   "metadata": {
    "id": "muD1vxozykSC"
   },
   "source": [
    "## 1\\. Google Colab"
   ]
  },
  {
   "cell_type": "markdown",
   "metadata": {
    "id": "ahrFfCuBxJKs"
   },
   "source": [
    "Crie uma célula de código que escreva o texto \"Olá mundo!\", utilize o comando `print`."
   ]
  },
  {
   "cell_type": "code",
   "execution_count": 1,
   "metadata": {
    "colab": {
     "base_uri": "https://localhost:8080/"
    },
    "id": "qD6bVE8DCgfu",
    "outputId": "86f34e56-2fa4-4500-c895-6ebbca49d0e5"
   },
   "outputs": [
    {
     "name": "stdout",
     "output_type": "stream",
     "text": [
      "Olá mundo\n"
     ]
    }
   ],
   "source": [
    "print('Olá mundo')"
   ]
  },
  {
   "cell_type": "code",
   "execution_count": 2,
   "metadata": {
    "colab": {
     "base_uri": "https://localhost:8080/"
    },
    "id": "EzLNrQ3v8U-O",
    "outputId": "39e83c4f-5868-4dde-afe0-948690d37013"
   },
   "outputs": [
    {
     "name": "stdout",
     "output_type": "stream",
     "text": [
      "Olá mundo\n"
     ]
    }
   ],
   "source": [
    "print('Olá mundo')"
   ]
  },
  {
   "cell_type": "markdown",
   "metadata": {
    "id": "KI9zQRT2xa7m"
   },
   "source": [
    "Crie uma célua de texto e adicione uma imagem."
   ]
  },
  {
   "cell_type": "markdown",
   "metadata": {
    "id": "JPWUxSfv8fHO"
   },
   "source": [
    "![download.png](data:image/png;base64,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)"
   ]
  },
  {
   "cell_type": "markdown",
   "metadata": {
    "id": "zMN1Q3jdwoJm"
   },
   "source": [
    "---"
   ]
  },
  {
   "cell_type": "markdown",
   "metadata": {
    "id": "tFYOPLS3xiwe"
   },
   "source": [
    "## 2\\. Números"
   ]
  },
  {
   "cell_type": "markdown",
   "metadata": {
    "id": "O2G9gt7tx2c-"
   },
   "source": [
    "Preencha as células de código para preencher os valores de (A), (B) e (C) na tabela de ticket médio abaixo:\n",
    "\n",
    "<br>\n",
    "\n",
    "| Dia   | Valor Total Vendas | Qtd Total Vendas | Ticket Medio |\n",
    "|-------|--------------------|------------------|--------------|\n",
    "| 19/01 | (A)                | 3                | 320.52       |\n",
    "| 20/01 | 834.47             | (B)              | 119.21       |\n",
    "| 23/01 | 15378.12           | 5                | (C)          |"
   ]
  },
  {
   "cell_type": "code",
   "execution_count": 3,
   "metadata": {
    "colab": {
     "base_uri": "https://localhost:8080/"
    },
    "id": "nsrKH9EizNRD",
    "outputId": "4714a4d5-fc92-4566-c0ab-7088f99f278b"
   },
   "outputs": [
    {
     "data": {
      "text/plain": [
       "961.56"
      ]
     },
     "execution_count": 3,
     "metadata": {},
     "output_type": "execute_result"
    }
   ],
   "source": [
    "320.52*3"
   ]
  },
  {
   "cell_type": "code",
   "execution_count": 6,
   "metadata": {
    "colab": {
     "base_uri": "https://localhost:8080/"
    },
    "id": "QQ1GBGHJzMmi",
    "outputId": "7fd146f1-94a2-4358-8b6d-801cf20a35ce"
   },
   "outputs": [
    {
     "data": {
      "text/plain": [
       "7.000000000000001"
      ]
     },
     "execution_count": 6,
     "metadata": {},
     "output_type": "execute_result"
    }
   ],
   "source": [
    "834.47/119.21"
   ]
  },
  {
   "cell_type": "code",
   "execution_count": 7,
   "metadata": {
    "colab": {
     "base_uri": "https://localhost:8080/"
    },
    "id": "W-li0nSMzKNa",
    "outputId": "feed75e3-94de-4b54-ea6f-860223ca7d70"
   },
   "outputs": [
    {
     "data": {
      "text/plain": [
       "3075.6240000000003"
      ]
     },
     "execution_count": 7,
     "metadata": {},
     "output_type": "execute_result"
    }
   ],
   "source": [
    "15378.12/5"
   ]
  },
  {
   "cell_type": "markdown",
   "metadata": {
    "id": "3eoP-Vj9yzh8"
   },
   "source": [
    "---"
   ]
  },
  {
   "cell_type": "markdown",
   "metadata": {
    "id": "yUJ6kdony6Pr"
   },
   "source": [
    "## 3\\. Strings"
   ]
  },
  {
   "cell_type": "markdown",
   "metadata": {
    "id": "KDuZpg-5zCvO"
   },
   "source": [
    "Aplique três métodos distintos na *string* abaixo, você pode conferir alguns métodos neste [link](https://www.w3schools.com/python/python_ref_string.asp):"
   ]
  },
  {
   "cell_type": "code",
   "execution_count": 17,
   "metadata": {
    "colab": {
     "base_uri": "https://localhost:8080/"
    },
    "id": "k9zbyf7BzjKj",
    "outputId": "89f8952f-3403-4ecb-c078-5d13eb7ffce1"
   },
   "outputs": [
    {
     "name": "stdout",
     "output_type": "stream",
     "text": [
      "RODA MUNDO, RODA GIGANTE, RODA MOINHO, RODA PIÃO.\n",
      "['Roda', 'mundo,', 'roda', 'gigante,', 'roda', 'moinho,', 'roda', 'pião.']\n",
      "Olá mundo, roda gigante, roda moinho, roda pião.\n"
     ]
    }
   ],
   "source": [
    "cancao = 'Roda mundo, roda gigante, roda moinho, roda pião.'\n",
    "metodo_1 = cancao.upper()\n",
    "metodo_2 = cancao.split()\n",
    "metodo_3 = cancao.replace('Roda','Olá')\n",
    "print(metodo_1)\n",
    "print(metodo_2)\n",
    "print(metodo_3)\n"
   ]
  },
  {
   "cell_type": "markdown",
   "metadata": {
    "id": "guZMHXVq0FnC"
   },
   "source": [
    "Extraia da string abaixo o valor da taxa **selic** na variável `selic` e o valor do **ano** na variavel `ano`. Imprima os valores na tela."
   ]
  },
  {
   "cell_type": "code",
   "execution_count": 27,
   "metadata": {
    "colab": {
     "base_uri": "https://localhost:8080/"
    },
    "id": "cbx_P4IQ0agK",
    "outputId": "5436fe8b-c2c5-47d0-db87-46202bfbf8c7"
   },
   "outputs": [
    {
     "name": "stdout",
     "output_type": "stream",
     "text": [
      "2,75\n",
      "6\n"
     ]
    }
   ],
   "source": [
    "noticia = 'Selic vai a 2,75% e supera expectativas; é a primeira alta em 6 anos.'\n",
    "achar_selic = noticia.find('2')\n",
    "selic = noticia[achar_selic:achar_selic + 4]\n",
    "achar_ano = noticia.find('6')\n",
    "ano = noticia[achar_ano]\n",
    "print(selic)\n",
    "print(ano)"
   ]
  },
  {
   "cell_type": "markdown",
   "metadata": {
    "id": "wWzbu-OC0z3L"
   },
   "source": [
    "---"
   ]
  },
  {
   "cell_type": "markdown",
   "metadata": {
    "id": "no8w_Ati01xP"
   },
   "source": [
    "## 4\\. Booleanos"
   ]
  },
  {
   "cell_type": "markdown",
   "metadata": {
    "id": "D_0tC3SC099N"
   },
   "source": [
    "Utilize a tabela da verdade para responder: qual o valor da variável x?"
   ]
  },
  {
   "cell_type": "code",
   "execution_count": 29,
   "metadata": {
    "colab": {
     "base_uri": "https://localhost:8080/"
    },
    "id": "XwIEbxf91SpU",
    "outputId": "3fa1c797-1bf5-4d1a-9b43-2de9f0e67423"
   },
   "outputs": [
    {
     "name": "stdout",
     "output_type": "stream",
     "text": [
      "True\n"
     ]
    }
   ],
   "source": [
    "a = False\n",
    "b = True\n",
    "\n",
    "x = not a & b\n",
    "print(x)"
   ]
  }
 ],
 "metadata": {
  "colab": {
   "collapsed_sections": [],
   "provenance": [],
   "toc_visible": true
  },
  "kernelspec": {
   "display_name": "Python 3 (ipykernel)",
   "language": "python",
   "name": "python3"
  },
  "language_info": {
   "codemirror_mode": {
    "name": "ipython",
    "version": 3
   },
   "file_extension": ".py",
   "mimetype": "text/x-python",
   "name": "python",
   "nbconvert_exporter": "python",
   "pygments_lexer": "ipython3",
   "version": "3.9.7"
  }
 },
 "nbformat": 4,
 "nbformat_minor": 1
}
